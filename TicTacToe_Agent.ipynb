{
 "cells": [
  {
   "cell_type": "markdown",
   "metadata": {
    "id": "gurrSf2HyUiY"
   },
   "source": [
    "## Tic-Tac-Toe Agent\n",
    "---\n",
    "\n",
    "In this notebook, you will learn to build an RL agent (using Q-learning) that learns to play Numerical Tic-Tac-Toe with odd numbers. The environment is playing randomly with the agent, i.e. its strategy is to put an even number randomly in an empty cell. \n",
    "\n",
    "The following is the layout of the notebook:\n",
    "    - Defining epsilon-greedy strategy\n",
    "    - Tracking state-action pairs for convergence\n",
    "    - Define hyperparameters for the Q-learning algorithm\n",
    "    - Generating episode and applying Q-update equation\n",
    "    - Checking convergence in Q-values"
   ]
  },
  {
   "cell_type": "markdown",
   "metadata": {},
   "source": [
    "#### Importing libraries\n",
    "Write the code to import Tic-Tac-Toe class from the environment file"
   ]
  },
  {
   "cell_type": "code",
   "execution_count": 31,
   "metadata": {
    "id": "DjZCeczbyUiZ"
   },
   "outputs": [],
   "source": [
    "import collections\n",
    "import numpy as np\n",
    "import random\n",
    "import pickle\n",
    "import time\n",
    "import os\n",
    "\n",
    "from matplotlib import pyplot as plt\n",
    "from itertools import product\n",
    "from TCGame_Env import TicTacToe\n",
    "from tqdm import tqdm\n",
    "%matplotlib inline"
   ]
  },
  {
   "cell_type": "markdown",
   "metadata": {
    "id": "Yj4Nu-6hyUib"
   },
   "source": [
    "### Helper Functions\n",
    "---"
   ]
  },
  {
   "cell_type": "markdown",
   "metadata": {
    "id": "sKCddy_zyUib"
   },
   "source": [
    "#### convert state array into a string to be used as a key in Q - Dictionary\n",
    "\n",
    ">  for a given state :\n",
    "-  x | 4 | 5\n",
    "-  3 | 8 | x\n",
    "-  x | x | x\n",
    "   \n",
    "*generated key :* **x-4-5-3-8-x-x-x-x**"
   ]
  },
  {
   "cell_type": "code",
   "execution_count": 33,
   "metadata": {
    "id": "sDsQ62ayyUic"
   },
   "outputs": [],
   "source": [
    "def generate_state_key(state):\n",
    "\n",
    "    return ('-'.join(str(e) for e in state)).replace('nan', 'x')"
   ]
  },
  {
   "cell_type": "markdown",
   "metadata": {
    "id": "TYeYzbWEyUic"
   },
   "source": [
    "#### generate valid 'agent' actions for a given state"
   ]
  },
  {
   "cell_type": "code",
   "execution_count": 34,
   "metadata": {
    "id": "Sbps69jOyUic"
   },
   "outputs": [],
   "source": [
    "def generate_valid_actions(state):\n",
    "    \n",
    "    possible_agent_actions, possible_env_actions = env.action_space(state)\n",
    "\n",
    "    agent_actions_list = [ac for i, ac in enumerate(possible_agent_actions)]\n",
    "\n",
    "    return agent_actions_list"
   ]
  },
  {
   "cell_type": "markdown",
   "metadata": {
    "id": "38rnDR7DyUic"
   },
   "source": [
    "#### add new state to Q - Dictionary"
   ]
  },
  {
   "cell_type": "code",
   "execution_count": 35,
   "metadata": {
    "id": "Rs75vuwmyUic"
   },
   "outputs": [],
   "source": [
    "def add_state_to_q_dict(state):\n",
    "    # convert new state into Q-dictionary key form\n",
    "    new_state_key = generate_state_key(state)\n",
    "\n",
    "    # calculate valid actions for the given state\n",
    "    agent_actions = generate_valid_actions(state)\n",
    "\n",
    "    if new_state_key not in Q_dict.keys():\n",
    "        for action in agent_actions:\n",
    "            Q_dict[new_state_key][action] = 0"
   ]
  },
  {
   "cell_type": "markdown",
   "metadata": {
    "id": "bl2DPzngyUic"
   },
   "source": [
    "#### tracking states initialization"
   ]
  },
  {
   "cell_type": "code",
   "execution_count": 36,
   "metadata": {
    "id": "QUIiUBcayUic"
   },
   "outputs": [],
   "source": [
    "def initialise_tracking_states():\n",
    "    state_action_pair = [('x-7-3-x-2-8-x-x-x', (0, 1)),\n",
    "                         ('x-1-2-x-7-x-x-6-x', (3, 3)),\n",
    "                         ('x-1-x-x-x-x-8-6-7', (0, 3)),\n",
    "                         ('6-x-7-x-x-1-x-x-4', (1, 5)),\n",
    "                         ('x-x-x-4-9-2-7-x-x', (1, 1)),\n",
    "                         ('x-x-3-8-2-x-x-x-5', (0, 1)),\n",
    "                         ('3-x-7-x-x-x-x-8-2', (5, 5)),\n",
    "                         ('2-x-1-8-x-7-x-x-x', (4, 3)),\n",
    "                         ('1-x-3-x-6-x-x-4-x', (1, 5))] \n",
    "    for st, ac in state_action_pair:\n",
    "        tracked_states[st][ac] = list()\n",
    "        tracked_rewards[st] = list()"
   ]
  },
  {
   "cell_type": "markdown",
   "metadata": {
    "id": "EYGAeo1NyUid"
   },
   "source": [
    "#### saving q-values corresponding to tracked states"
   ]
  },
  {
   "cell_type": "code",
   "execution_count": 37,
   "metadata": {
    "id": "vzZdV3FeyUid"
   },
   "outputs": [],
   "source": [
    "def save_tracking_states():\n",
    "    for state in tracked_states.keys():\n",
    "        for action in tracked_states[state].keys():\n",
    "            if state in Q_dict and action in Q_dict[state]:\n",
    "                tracked_states[state][action].append(Q_dict[state][action])"
   ]
  },
  {
   "cell_type": "markdown",
   "metadata": {
    "id": "PFZyVC8ayUid"
   },
   "source": [
    "#### save model object"
   ]
  },
  {
   "cell_type": "code",
   "execution_count": 38,
   "metadata": {
    "id": "jyTER32AyUid"
   },
   "outputs": [],
   "source": [
    "def save_obj(obj, name):\n",
    "    with open(name + '.pkl', 'wb') as f:\n",
    "        pickle.dump(obj, f, pickle.HIGHEST_PROTOCOL)"
   ]
  },
  {
   "cell_type": "markdown",
   "metadata": {
    "id": "OeNPwcWTyUid"
   },
   "source": [
    "### Epsilon - Greedy Strategy\n",
    "---"
   ]
  },
  {
   "cell_type": "markdown",
   "metadata": {
    "id": "Nh4eyn0UyUid"
   },
   "source": [
    "Epsilon greedy policy is a way of selecting random actions with uniform distribution from a set of available actions. Using this policy either we can select random action with epsilon probability and we can select an action with 1-epsilon probability that gives maximum reward in given state"
   ]
  },
  {
   "cell_type": "markdown",
   "metadata": {
    "id": "vXX8xZvIyUid"
   },
   "source": [
    "#### check epsilon decay over episodes"
   ]
  },
  {
   "cell_type": "code",
   "execution_count": 39,
   "metadata": {
    "colab": {
     "base_uri": "https://localhost:8080/",
     "height": 278
    },
    "id": "fc9DQ50gyUid",
    "outputId": "cfc9db84-c137-494c-8a41-4d47f3431812"
   },
   "outputs": [
    {
     "data": {
      "image/png": "[encoded data removed]",
      "text/plain": [
       "<Figure size 432x288 with 1 Axes>"
      ]
     },
     "metadata": {
      "needs_background": "light"
     },
     "output_type": "display_data"
    }
   ],
   "source": [
    "epsilon = []\n",
    "max_epsilon = 1.0\n",
    "min_epsilon = 0.001\n",
    "\n",
    "episodes = np.arange(0, 5000000)\n",
    "\n",
    "for i in episodes:\n",
    "    epsilon.append(min_epsilon +\n",
    "                   (max_epsilon - min_epsilon) * np.exp(-0.000001 * i))\n",
    "\n",
    "plt.plot(episodes, epsilon)\n",
    "plt.show()"
   ]
  },
  {
   "cell_type": "code",
   "execution_count": 40,
   "metadata": {
    "id": "ksyM9xGyyUie"
   },
   "outputs": [],
   "source": [
    "def select_action_epsilon_greedy(state, episodes):\n",
    "\n",
    "    max_epsilon = 1.0\n",
    "    min_epsilon = 0.001\n",
    "    \n",
    "    random_value = np.random.random()\n",
    "    \n",
    "    # with increase in the number of episodes, epsilon value reduces\n",
    "    # this pushes the system to exploit existing system states\n",
    "    epsilon_value = min_epsilon + (max_epsilon - min_epsilon) * np.exp(-0.000001 * episodes)\n",
    "    \n",
    "    if random_value > epsilon_value:\n",
    "        # exploitation strategy - gets the action corresponding to max q-value for given state\n",
    "        proposed_action = max(Q_dict[generate_state_key(state)],\n",
    "                              key=Q_dict[generate_state_key(state)].get)\n",
    "    else:\n",
    "        # exploration strategy - randomly choose an agent action from allowed action space\n",
    "        proposed_action = random.choice(\n",
    "            [ac for itr, ac in enumerate(env.action_space(state)[0])])\n",
    "    \n",
    "    return proposed_action"
   ]
  },
  {
   "cell_type": "markdown",
   "metadata": {
    "id": "z_8qF59VyUie"
   },
   "source": [
    "### Initialization\n",
    "---"
   ]
  },
  {
   "cell_type": "code",
   "execution_count": 41,
   "metadata": {
    "id": "dSSv2cKAyUie"
   },
   "outputs": [],
   "source": [
    "# environment object\n",
    "env = TicTacToe()\n",
    "\n",
    "# q-dictionary used for tracking (state, action) pairs with corresponing q-values\n",
    "Q_dict = collections.defaultdict(dict)\n",
    "\n",
    "# set of states tracked for convergence\n",
    "tracked_states = collections.defaultdict(dict)\n",
    "\n",
    "# set of states tracked for rewards\n",
    "tracked_rewards = collections.defaultdict(dict)\n",
    "\n",
    "initialise_tracking_states()"
   ]
  },
  {
   "cell_type": "markdown",
   "metadata": {
    "id": "eSEyFjDzyUie"
   },
   "source": [
    "### Hyperparameters\n",
    "---"
   ]
  },
  {
   "cell_type": "code",
   "execution_count": 42,
   "metadata": {
    "id": "S18zVhxiyUie"
   },
   "outputs": [],
   "source": [
    "episodes = 5000000\n",
    "\n",
    "learning_rate=0.01\n",
    "gamma = 0.91\n",
    "\n",
    "checkpoint_state_tracking = 1000\n",
    "checkpoint_print_episodes = 2500000"
   ]
  },
  {
   "cell_type": "markdown",
   "metadata": {
    "id": "3AiDwurSyUie"
   },
   "source": [
    "### Q - Learning\n",
    "---"
   ]
  },
  {
   "cell_type": "code",
   "execution_count": 43,
   "metadata": {
    "colab": {
     "base_uri": "https://localhost:8080/"
    },
    "id": "NbQERq_lyUie",
    "outputId": "241b6dee-7e7d-4d37-8d63-c8cab77677a4"
   },
   "outputs": [
    {
     "name": "stdout",
     "output_type": "stream",
     "text": [
      "After playing 2500000 games, Agent Won : 0.4971, Environment Won : 0.1875, Tie(s) : 0.3154\n",
      "After playing 5000000 games, Agent Won : 0.7138, Environment Won : 0.1058, Tie(s) : 0.1805\n",
      "Elapsed time : 7415.364989042282\n"
     ]
    }
   ],
   "source": [
    "start_time = time.time()\n",
    "\n",
    "agent_won_count = 0\n",
    "env_won_count = 0\n",
    "tie_count = 0\n",
    "\n",
    "reward_state = None\n",
    "\n",
    "for episode in range(episodes):\n",
    "\n",
    "    # build a new environment for this episode\n",
    "#     env = TicTacToeEnvironment()\n",
    "\n",
    "    # generate a fresh state for the current environment\n",
    "    current_state = env.state\n",
    "\n",
    "    # add current state to Q - dictionary for Q - learning\n",
    "    add_state_to_q_dict(current_state)\n",
    "    \n",
    "    reward_state = None\n",
    "    \n",
    "    is_terminal_state = False\n",
    "    \n",
    "    # play the game till a terminal state has been reached     \n",
    "    while not is_terminal_state:\n",
    "        \n",
    "        # use the same epsilon greedy strategy for a given episode i.e. 1 game\n",
    "        agent_action = select_action_epsilon_greedy(current_state, episode)\n",
    "        \n",
    "        # given the current state and agent action, move game to the next step\n",
    "        # record - next_state, reward, terminal state         \n",
    "        next_state, reward, is_terminal_state, msg = env.step(\n",
    "            current_state, agent_action)\n",
    "\n",
    "        add_state_to_q_dict(next_state)\n",
    "\n",
    "        current_state_key = generate_state_key(current_state)\n",
    "        reward_state = current_state_key\n",
    "\n",
    "        if is_terminal_state:\n",
    "            # terminal state - either a tie or a win by agent or environment\n",
    "            if msg == \"Agent Won!\":\n",
    "                agent_won_count += 1\n",
    "\n",
    "            elif msg == \"Environment Won!\":\n",
    "                env_won_count += 1\n",
    "                \n",
    "            else:\n",
    "                tie_count += 1\n",
    "                \n",
    "            best_next_action = None\n",
    "            \n",
    "            # in a terminal state, Q - value of next state will be ZERO\n",
    "            Q_dict[generate_state_key(current_state)][agent_action] += learning_rate * (\n",
    "                (reward +\n",
    "                 (gamma * 0)) - Q_dict[generate_state_key(current_state)][agent_action])\n",
    "        else:\n",
    "            # generate 'best next action' corresponding to next state from Q - dictionary\n",
    "            best_next_action = max(Q_dict[generate_state_key(next_state)],\n",
    "                                   key=Q_dict[generate_state_key(next_state)].get)\n",
    "            \n",
    "            # update q-value of (current state, agent action) pair\n",
    "            Q_dict[generate_state_key(current_state)][agent_action] += learning_rate * (\n",
    "                (reward + (gamma *\n",
    "                           (Q_dict[generate_state_key(next_state)][best_next_action]))) -\n",
    "                Q_dict[generate_state_key(current_state)][agent_action])\n",
    "\n",
    "        current_state = next_state\n",
    "        \n",
    "        if reward_state in tracked_rewards.keys():\n",
    "            tracked_rewards[reward_state].append(reward)\n",
    "#tracking the q values\n",
    "    #if (episode == checkpoint_state_tracking-1):        #at the 1999th episode\n",
    "        #initialise_tracking_states()\n",
    "\n",
    "    if ((episode+1) % checkpoint_state_tracking) == 0:   #every 2000th episode\n",
    "        save_tracking_states()\n",
    "        save_obj(tracked_states, 'tracked_states')\n",
    "\n",
    "    # Saving the Policy here\n",
    "    \n",
    "        \n",
    "    if (episode + 1) % checkpoint_print_episodes == 0:\n",
    "        save_obj(Q_dict,'Policy')\n",
    "        print(\n",
    "            \"After playing %d games, Agent Won : %.4f, Environment Won : %.4f, Tie(s) : %.4f\"\n",
    "            % (episode + 1, agent_won_count / (episode + 1), env_won_count /\n",
    "               (episode + 1), tie_count / (episode + 1)))\n",
    "\n",
    "    \n",
    "\n",
    "elapsed_time = time.time() - start_time\n",
    "print(\"Elapsed time :\", elapsed_time)\n",
    "save_obj(tracked_states, 'tracked_states')\n",
    "save_obj(Q_dict, 'Policy')"
   ]
  },
  {
   "cell_type": "code",
   "execution_count": null,
   "metadata": {},
   "outputs": [],
   "source": []
  },
  {
   "cell_type": "code",
   "execution_count": 44,
   "metadata": {
    "colab": {
     "base_uri": "https://localhost:8080/"
    },
    "id": "9xt6uTrRyUif",
    "outputId": "de158843-695e-481c-934d-04e984fdfc2e"
   },
   "outputs": [
    {
     "name": "stdout",
     "output_type": "stream",
     "text": [
      "Number of games won by agent - 3568774\n",
      "Number of games won by environment - 528777\n",
      "Number of tie games - 902449\n"
     ]
    }
   ],
   "source": [
    "print('Number of games won by agent - {0}'.format(agent_won_count))\n",
    "\n",
    "print('Number of games won by environment - {0}'.format(env_won_count))\n",
    "\n",
    "print('Number of tie games - {0}'.format(tie_count))"
   ]
  },
  {
   "cell_type": "code",
   "execution_count": null,
   "metadata": {
    "id": "wnTJQnbdyUif"
   },
   "outputs": [],
   "source": []
  },
  {
   "cell_type": "markdown",
   "metadata": {
    "id": "ar3K0AdIyUif"
   },
   "source": [
    "### Q - values convergence\n",
    "---"
   ]
  },
  {
   "cell_type": "code",
   "execution_count": 45,
   "metadata": {
    "colab": {
     "base_uri": "https://localhost:8080/"
    },
    "id": "gso54Rp2yUif",
    "outputId": "8f9133c1-544d-4ee2-b35e-031e6b43bd89"
   },
   "outputs": [
    {
     "data": {
      "text/plain": [
       "defaultdict(dict,\n",
       "            {'x-7-3-x-2-8-x-x-x': {(0, 1): 4951},\n",
       "             'x-1-2-x-7-x-x-6-x': {(3, 3): 4936},\n",
       "             'x-1-x-x-x-x-8-6-7': {(0, 3): 4952},\n",
       "             '6-x-7-x-x-1-x-x-4': {(1, 5): 4904},\n",
       "             'x-x-x-4-9-2-7-x-x': {(1, 1): 4965},\n",
       "             'x-x-3-8-2-x-x-x-5': {(0, 1): 4897},\n",
       "             '3-x-7-x-x-x-x-8-2': {(5, 5): 4843},\n",
       "             '2-x-1-8-x-7-x-x-x': {(4, 3): 4973},\n",
       "             '1-x-3-x-6-x-x-4-x': {(1, 5): 4759}})"
      ]
     },
     "execution_count": 45,
     "metadata": {},
     "output_type": "execute_result"
    }
   ],
   "source": [
    "state_track_val = collections.defaultdict(dict)\n",
    "\n",
    "for state in tracked_states.keys():\n",
    "    for action in tracked_states[state].keys():\n",
    "        qvals = tracked_states[state][action]\n",
    "        total_tracked_values = len(qvals)\n",
    "        state_track_val[state][action] = total_tracked_values\n",
    "            \n",
    "state_track_val"
   ]
  },
  {
   "cell_type": "markdown",
   "metadata": {
    "id": "Kbmf8HufyUif"
   },
   "source": [
    "#### draw convergence plot for a state - action pair\n",
    "---"
   ]
  },
  {
   "cell_type": "code",
   "execution_count": 46,
   "metadata": {
    "id": "vuKTZsrfyUif"
   },
   "outputs": [],
   "source": [
    "def plot_q_val_convergence(state, action):\n",
    "\n",
    "    iterations = state_track_val[state][action]\n",
    "    plt.plot(range(0, iterations), tracked_states[state][action])\n",
    "    \n",
    "    \n",
    "    plt.ylabel(\"Q_value\")\n",
    "    \n",
    "    plt.title(\"State : {0} - action : {1}\".format(state, action))\n",
    "    plt.legend([\"Q-value\"], loc=\"lower right\")"
   ]
  },
  {
   "cell_type": "markdown",
   "metadata": {
    "id": "Jd-YwTCeyUif"
   },
   "source": [
    "#### display convergence of tracked states\n",
    "---"
   ]
  },
  {
   "cell_type": "code",
   "execution_count": 47,
   "metadata": {
    "colab": {
     "base_uri": "https://localhost:8080/",
     "height": 827
    },
    "id": "VrFcIvCAyUif",
    "outputId": "b2e96de9-9700-4180-bd08-fc00d27448e1"
   },
   "outputs": [
    {
     "data": {
      "text/plain": [
       "<Figure size 1440x1080 with 0 Axes>"
      ]
     },
     "metadata": {},
     "output_type": "display_data"
    },
    {
     "data": {
      "image/png": "[encoded data removed]",
      "text/plain": [
       "<Figure size 1440x1080 with 10 Axes>"
      ]
     },
     "metadata": {
      "needs_background": "light"
     },
     "output_type": "display_data"
    }
   ],
   "source": [
    "plt.figure(0, figsize=(20, 15))\n",
    "\n",
    "fig, axes = plt.subplots(nrows=5, ncols=2, figsize=(20, 15))\n",
    "fig.tight_layout()\n",
    "\n",
    "subplots = [i for i in range(521, 530)]\n",
    "\n",
    "i = 0\n",
    "\n",
    "for state in state_track_val.keys():\n",
    "    for action in state_track_val[state].keys():\n",
    "        plt.subplot(subplots[i])\n",
    "        plot_q_val_convergence(state, action)\n",
    "        i +=1\n",
    "\n",
    "plt.show()"
   ]
  },
  {
   "cell_type": "markdown",
   "metadata": {
    "id": "NqtQoeCfyUif"
   },
   "source": [
    "_**Following state - action pairs converged after training the system for 1 million episodes :**_\n",
    "\n",
    "> -  state : x-7-3-x-2-8-x-x-x, action : (0, 1)\n",
    "-  state : x-1-2-x-7-x-x-6-x, action : (3, 3)\n",
    "-  state : x-1-x-x-x-x-8-6-7, action : (0, 3)\n",
    "-  state : 6-x-7-x-x-1-x-x-4, action : (1, 5)\n",
    "-  state : 1-x-3-x-6-x-x-4-x, action : (1, 5)"
   ]
  },
  {
   "cell_type": "code",
   "execution_count": null,
   "metadata": {
    "id": "BBmHfl0uyUif"
   },
   "outputs": [],
   "source": []
  }
 ],
 "metadata": {
  "accelerator": "GPU",
  "colab": {
   "collapsed_sections": [],
   "name": "tc_agent.ipynb",
   "provenance": []
  },
  "kernelspec": {
   "display_name": "Python 3",
   "language": "python",
   "name": "python3"
  },
  "language_info": {
   "codemirror_mode": {
    "name": "ipython",
    "version": 3
   },
   "file_extension": ".py",
   "mimetype": "text/x-python",
   "name": "python",
   "nbconvert_exporter": "python",
   "pygments_lexer": "ipython3",
   "version": "3.8.3"
  }
 },
 "nbformat": 4,
 "nbformat_minor": 1
}
